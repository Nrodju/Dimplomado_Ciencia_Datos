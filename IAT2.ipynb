{
 "cells": [
  {
   "cell_type": "markdown",
   "id": "c43f3852-776d-4cc4-a6e5-96a7325ce3b7",
   "metadata": {},
   "source": [
    "## 1. Función Calcular la edad"
   ]
  },
  {
   "cell_type": "code",
   "execution_count": 3,
   "id": "907c9192-5017-47fc-9b1b-7702a248576a",
   "metadata": {},
   "outputs": [],
   "source": [
    "from datetime import date\n",
    "\n",
    "def calcular_edad(fecha_nacimiento):\n",
    "    hoy = date.today()\n",
    "    edad = hoy.year - fecha_nacimiento.year - ((hoy.month, hoy.day) < (fecha_nacimiento.month, fecha_nacimiento.day))\n",
    "    return edad\n"
   ]
  },
  {
   "cell_type": "code",
   "execution_count": 4,
   "id": "45e320cb-7699-4501-9425-26d2f799b562",
   "metadata": {
    "tags": []
   },
   "outputs": [
    {
     "name": "stdout",
     "output_type": "stream",
     "text": [
      "La persona tiene 33 años.\n"
     ]
    }
   ],
   "source": [
    "fecha_nacimiento = date(1990, 3, 15)\n",
    "edad = calcular_edad(fecha_nacimiento)\n",
    "print(\"La persona tiene\", edad, \"años.\")"
   ]
  },
  {
   "cell_type": "markdown",
   "id": "8761cca0-716e-4bac-b471-4b0b952fa67d",
   "metadata": {},
   "source": [
    "## 2. Imprimir texto centrado "
   ]
  },
  {
   "cell_type": "code",
   "execution_count": 13,
   "id": "9dad0480-d0fe-43f3-9552-9d8212a7976f",
   "metadata": {},
   "outputs": [
    {
     "name": "stdout",
     "output_type": "stream",
     "text": [
      "                                  Hola, mundo!\n"
     ]
    }
   ],
   "source": [
    "def EscribirCentrado(texto):\n",
    "    longitud_texto = len(texto)\n",
    "    espacios_antes = (40 - longitud_texto // 2) * \" \"\n",
    "    print(espacios_antes + texto)\n",
    "\n",
    "# Ejemplo de uso\n",
    "texto = \"Hola, mundo!\"\n",
    "EscribirCentrado(texto)\n"
   ]
  },
  {
   "cell_type": "markdown",
   "id": "f06b0479-767e-4722-8c36-87a55c339f13",
   "metadata": {},
   "source": [
    "## 3. Escribir decorado"
   ]
  },
  {
   "cell_type": "code",
   "execution_count": 10,
   "id": "dc5cdd79-9b26-4f50-901d-169bcc9e5e88",
   "metadata": {},
   "outputs": [],
   "source": [
    "def imprimir_marcado(texto):\n",
    "    texto_marcado = f'**_{texto}_**'\n",
    "    print(texto_marcado)\n"
   ]
  },
  {
   "cell_type": "code",
   "execution_count": 11,
   "id": "324436ea-904d-4710-8c8c-7a73dad88cba",
   "metadata": {},
   "outputs": [
    {
     "name": "stdout",
     "output_type": "stream",
     "text": [
      "**_Hola, mundo!_**\n"
     ]
    }
   ],
   "source": [
    "imprimir_marcado('Hola, mundo!')\n"
   ]
  },
  {
   "cell_type": "markdown",
   "id": "47a49098-555d-4e91-b7d5-585adc5bc02b",
   "metadata": {},
   "source": [
    "## 4. Dos números son múltiplos ? "
   ]
  },
  {
   "cell_type": "code",
   "execution_count": null,
   "id": "318608c1-874d-494b-836b-0a6d9f1afd8c",
   "metadata": {},
   "outputs": [],
   "source": [
    "num1 = int(input(\"Ingresa el primer número entero: \"))\n",
    "num2 = int(input(\"Ingresa el segundo número entero: \"))\n",
    "\n",
    "if num1 % num2 == 0 or num2 % num1 == 0:\n",
    "    print(\"Sí son múltiplos.\")\n",
    "else:\n",
    "    print(\"No son múltiplos.\")\n"
   ]
  },
  {
   "cell_type": "markdown",
   "id": "e03acb92-469c-455e-8627-7b71e1e44fc8",
   "metadata": {},
   "source": [
    "# 5. Temperaturas"
   ]
  },
  {
   "cell_type": "code",
   "execution_count": 1,
   "id": "cf4e0150-ef9d-4302-a07f-0e81e238a2a3",
   "metadata": {},
   "outputs": [],
   "source": [
    "def temperatura_media(temp_horas):\n",
    "    suma_temperaturas = sum(temp_horas)\n",
    "    num_horas = len(temp_horas)\n",
    "    temperatura_media = suma_temperaturas / num_horas\n",
    "    return temperatura_media\n"
   ]
  },
  {
   "cell_type": "code",
   "execution_count": 2,
   "id": "408e90db-064d-4614-94d9-9eb2dc3b95f4",
   "metadata": {},
   "outputs": [
    {
     "name": "stdout",
     "output_type": "stream",
     "text": [
      "La temperatura media del día en Bogotá fue: 28.5\n"
     ]
    }
   ],
   "source": [
    "temperaturas = [20, 21, 22, 23, 24, 25, 26, 27, 28, 29, 30, 31, 32, 33, 34, 35, 34, 33, 32, 31, 30, 29, 28, 27]\n",
    "media = temperatura_media(temperaturas)\n",
    "print(\"La temperatura media del día en Bogotá fue:\", media)\n"
   ]
  },
  {
   "cell_type": "markdown",
   "id": "712e42e2-59a6-4dd9-8a8d-d15f88f3c76f",
   "metadata": {},
   "source": [
    "# 5. Convertir a espaciado "
   ]
  },
  {
   "cell_type": "code",
   "execution_count": 3,
   "id": "9942a9ba-8005-4479-b453-213ce5522d49",
   "metadata": {},
   "outputs": [
    {
     "name": "stdout",
     "output_type": "stream",
     "text": [
      "H o l a ,   t ú \n"
     ]
    }
   ],
   "source": [
    "def ConvertirEspaciado(texto):\n",
    "    resultado = \"\"\n",
    "    for letra in texto:\n",
    "        resultado += letra + \" \"\n",
    "    return resultado\n",
    "\n",
    "# Ejemplo de uso\n",
    "texto_original = \"Hola, tú\"\n",
    "texto_convertido = ConvertirEspaciado(texto_original)\n",
    "print(texto_convertido)\n"
   ]
  },
  {
   "cell_type": "markdown",
   "id": "d4d47af9-3ea0-4404-9388-d3c213c00211",
   "metadata": {},
   "source": [
    "# 6. Calcular Max-Min"
   ]
  },
  {
   "cell_type": "code",
   "execution_count": 4,
   "id": "7adf82d6-e733-4161-91ef-2b432e734596",
   "metadata": {},
   "outputs": [
    {
     "name": "stdout",
     "output_type": "stream",
     "text": [
      "Máximo: 9\n",
      "Mínimo: 1\n"
     ]
    }
   ],
   "source": [
    "def calcularMaxMin(lista):\n",
    "    if not lista:  # Verifica si la lista está vacía\n",
    "        return None  # Retorna None si la lista está vacía\n",
    "\n",
    "    maximo = minimo = lista[0]  # Inicializa los valores máximo y mínimo con el primer elemento de la lista\n",
    "\n",
    "    for numero in lista:\n",
    "        if numero > maximo:\n",
    "            maximo = numero  # Actualiza el valor máximo si el número actual es mayor\n",
    "        if numero < minimo:\n",
    "            minimo = numero  # Actualiza el valor mínimo si el número actual es menor\n",
    "\n",
    "    return maximo, minimo\n",
    "\n",
    "# Ejemplo de uso\n",
    "valores = [5, 2, 9, 1, 7]\n",
    "maximo, minimo = calcularMaxMin(valores)\n",
    "print(\"Máximo:\", maximo)\n",
    "print(\"Mínimo:\", minimo)\n"
   ]
  },
  {
   "cell_type": "markdown",
   "id": "63289ed7-2f38-4413-83b5-47d80ce47182",
   "metadata": {},
   "source": [
    "# 7. Área y perímetro de una circunferencia"
   ]
  },
  {
   "cell_type": "code",
   "execution_count": 5,
   "id": "45558294-5bd2-496a-8363-e34a015f89ff",
   "metadata": {},
   "outputs": [
    {
     "name": "stdout",
     "output_type": "stream",
     "text": [
      "Área: 314.1592653589793\n",
      "Perímetro: 62.83185307179586\n"
     ]
    }
   ],
   "source": [
    "import math\n",
    "\n",
    "def calcularAreaPerimetroCircunferencia(radio):\n",
    "    area = math.pi * radio**2\n",
    "    perimetro = 2 * math.pi * radio\n",
    "    return area, perimetro\n",
    "\n",
    "# Ejemplo de uso\n",
    "radio = 10\n",
    "area, perimetro = calcularAreaPerimetroCircunferencia(radio)\n",
    "print(\"Área:\", area)\n",
    "print(\"Perímetro:\", perimetro)\n"
   ]
  },
  {
   "cell_type": "markdown",
   "id": "c53e2915-95f3-49e5-b14e-6f6e9370eb63",
   "metadata": {},
   "source": [
    "# 8. Función Login "
   ]
  },
  {
   "cell_type": "code",
   "execution_count": 6,
   "id": "ebc0895b-c28b-49d1-a748-4b3655fa0619",
   "metadata": {},
   "outputs": [
    {
     "name": "stdin",
     "output_type": "stream",
     "text": [
      "Nombre de usuario:  Jose\n",
      "Contraseña:  123456\n"
     ]
    },
    {
     "name": "stdout",
     "output_type": "stream",
     "text": [
      "Inicio de sesión fallido. Número de intentos: 1\n"
     ]
    }
   ],
   "source": [
    "def Login(nombre_usuario, contraseña, intentos):\n",
    "    if nombre_usuario == \"usuario1\" and contraseña == \"asdasd\":\n",
    "        return True\n",
    "    else:\n",
    "        intentos += 1\n",
    "        return False\n",
    "\n",
    "# Ejemplo de uso\n",
    "nombre_usuario = input(\"Nombre de usuario: \")\n",
    "contraseña = input(\"Contraseña: \")\n",
    "intentos = 0\n",
    "\n",
    "if Login(nombre_usuario, contraseña, intentos):\n",
    "    print(\"Inicio de sesión exitoso.\")\n",
    "else:\n",
    "    intentos += 1\n",
    "    print(\"Inicio de sesión fallido. Número de intentos:\", intentos)\n"
   ]
  },
  {
   "cell_type": "markdown",
   "id": "facbba97-c033-4a7e-ae57-5c8519ed2fe5",
   "metadata": {},
   "source": [
    "# 9. Recursiva - Factorial "
   ]
  },
  {
   "cell_type": "code",
   "execution_count": 7,
   "id": "e8f4f9e1-0151-45a7-85a2-8ac740efe2e9",
   "metadata": {},
   "outputs": [
    {
     "name": "stdin",
     "output_type": "stream",
     "text": [
      "Ingrese un número entero:  12\n"
     ]
    },
    {
     "name": "stdout",
     "output_type": "stream",
     "text": [
      "El factorial de 12 es: 479001600\n"
     ]
    }
   ],
   "source": [
    "def calcularFactorial(n):\n",
    "    if n == 0:\n",
    "        return 1\n",
    "    else:\n",
    "        return n * calcularFactorial(n - 1)\n",
    "\n",
    "# Programa principal\n",
    "numero = int(input(\"Ingrese un número entero: \"))\n",
    "\n",
    "factorial = calcularFactorial(numero)\n",
    "\n",
    "print(\"El factorial de\", numero, \"es:\", factorial)\n"
   ]
  },
  {
   "cell_type": "markdown",
   "id": "4c21117d-02df-4ef8-8eb4-6dbe7f242266",
   "metadata": {},
   "source": [
    "# 10. Cantidad en tiempos "
   ]
  },
  {
   "cell_type": "markdown",
   "id": "eb11185a-e913-40d0-aff8-21eea64d48d5",
   "metadata": {},
   "source": [
    "10.1  La cantidad de segundos en un tiempo dado en horas, minutos y segundos."
   ]
  },
  {
   "cell_type": "code",
   "execution_count": 8,
   "id": "f890cf4a-a5a3-4090-9bf5-ea2449eaca68",
   "metadata": {},
   "outputs": [
    {
     "name": "stdout",
     "output_type": "stream",
     "text": [
      "La cantidad de segundos es: 9045\n"
     ]
    }
   ],
   "source": [
    "def calcular_segundos(horas, minutos, segundos):\n",
    "    total_segundos = (horas * 3600) + (minutos * 60) + segundos\n",
    "    return total_segundos\n",
    "\n",
    "# Ejemplo de uso\n",
    "horas = 2\n",
    "minutos = 30\n",
    "segundos = 45\n",
    "\n",
    "segundos_totales = calcular_segundos(horas, minutos, segundos)\n",
    "print(\"La cantidad de segundos es:\", segundos_totales)\n"
   ]
  },
  {
   "cell_type": "markdown",
   "id": "d765ddd6-98d9-4cb2-a3a7-354f2fed341c",
   "metadata": {},
   "source": [
    "10.2 La cantidad de horas, minutos y segundos de un tiempo dado en segundos"
   ]
  },
  {
   "cell_type": "code",
   "execution_count": 9,
   "id": "2f879380-2bef-4ea9-b8f9-875f0bf5d798",
   "metadata": {},
   "outputs": [
    {
     "name": "stdout",
     "output_type": "stream",
     "text": [
      "Horas: 2\n",
      "Minutos: 30\n",
      "Segundos: 0\n"
     ]
    }
   ],
   "source": [
    "def calcular_tiempo(segundos):\n",
    "    horas = segundos // 3600\n",
    "    segundos_restantes = segundos % 3600\n",
    "    minutos = segundos_restantes // 60\n",
    "    segundos = segundos_restantes % 60\n",
    "    return horas, minutos, segundos\n",
    "\n",
    "# Ejemplo de uso\n",
    "segundos_totales = 9000\n",
    "\n",
    "horas, minutos, segundos = calcular_tiempo(segundos_totales)\n",
    "print(\"Horas:\", horas)\n",
    "print(\"Minutos:\", minutos)\n",
    "print(\"Segundos:\", segundos)\n"
   ]
  },
  {
   "cell_type": "markdown",
   "id": "120ed5d4-2c1e-4757-b13e-208a7ad4d3f0",
   "metadata": {},
   "source": [
    "# 11. Invertir una Tupla"
   ]
  },
  {
   "cell_type": "code",
   "execution_count": 10,
   "id": "291372dd-da93-49d2-9563-8a510b85809c",
   "metadata": {},
   "outputs": [
    {
     "name": "stdout",
     "output_type": "stream",
     "text": [
      "Tupla original: (1, 2, 3, 4, 5)\n",
      "Tupla invertida: (5, 4, 3, 2, 1)\n"
     ]
    }
   ],
   "source": [
    "def invertir_tupla(tupla):\n",
    "    tupla_invertida = tuple(reversed(tupla))\n",
    "    return tupla_invertida\n",
    "\n",
    "# Ejemplo de uso\n",
    "mi_tupla = (1, 2, 3, 4, 5)\n",
    "tupla_invertida = invertir_tupla(mi_tupla)\n",
    "print(\"Tupla original:\", mi_tupla)\n",
    "print(\"Tupla invertida:\", tupla_invertida)\n"
   ]
  },
  {
   "cell_type": "markdown",
   "id": "8da50318-3f04-41af-9224-e17c423dd656",
   "metadata": {},
   "source": [
    "# 12. Media Geométrica usando Functools "
   ]
  },
  {
   "cell_type": "code",
   "execution_count": 12,
   "id": "cb92e44d-c4c7-44ca-b5da-b6471f5d2717",
   "metadata": {},
   "outputs": [
    {
     "name": "stdout",
     "output_type": "stream",
     "text": [
      "Media geométrica: 9.918688392825665\n"
     ]
    }
   ],
   "source": [
    "import functools\n",
    "\n",
    "def calcular_media_geometrica(lista):\n",
    "    multiplicacion = functools.reduce(lambda x, y: x * y, lista)\n",
    "    media_geometrica = multiplicacion ** (1 / len(lista))\n",
    "    return media_geometrica\n",
    "\n",
    "# Ejemplo de uso\n",
    "valores = [50, 4, 6, 8, 10]\n",
    "media_geom = calcular_media_geometrica(valores)\n",
    "print(\"Media geométrica:\", media_geom)\n"
   ]
  },
  {
   "cell_type": "code",
   "execution_count": null,
   "id": "303fe0a5-c00a-4df2-9586-048687ec3397",
   "metadata": {},
   "outputs": [],
   "source": [
    "\n"
   ]
  },
  {
   "cell_type": "code",
   "execution_count": null,
   "id": "cf05580c-b890-4338-9f8c-180d8ebd0a64",
   "metadata": {},
   "outputs": [],
   "source": []
  }
 ],
 "metadata": {
  "kernelspec": {
   "display_name": "Python 3",
   "language": "python",
   "name": "python3"
  },
  "language_info": {
   "codemirror_mode": {
    "name": "ipython",
    "version": 3
   },
   "file_extension": ".py",
   "mimetype": "text/x-python",
   "name": "python",
   "nbconvert_exporter": "python",
   "pygments_lexer": "ipython3",
   "version": "3.8.8"
  }
 },
 "nbformat": 4,
 "nbformat_minor": 5
}
