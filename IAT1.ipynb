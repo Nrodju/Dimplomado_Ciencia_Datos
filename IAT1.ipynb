{
 "cells": [
  {
   "cell_type": "markdown",
   "id": "fea791f3-25a1-45c1-b94c-7d711aae316f",
   "metadata": {},
   "source": [
    "#  Clustering"
   ]
  },
  {
   "cell_type": "markdown",
   "id": "193714e6-42d0-462d-80ba-08fbddc874a2",
   "metadata": {},
   "source": [
    "<img src=\"https://www.creativefabrica.com/wp-content/uploads/2021/06/29/Clustering-Icon-Graphics-14022619-1.jpg\">\n"
   ]
  },
  {
   "cell_type": "markdown",
   "id": "0e50db53-6c25-42d9-be38-a170c1b626d0",
   "metadata": {},
   "source": [
    "### Autor : Nicolás Rodríguez"
   ]
  },
  {
   "cell_type": "markdown",
   "id": "453323dc-d28f-4086-b1dd-85b095474042",
   "metadata": {},
   "source": [
    "Estadístico en formación en la Universidad Nacional de Colombia, apasionado por el deporte y la aventura, destaca por la resolución de problemas con un pensamiento matemático y lógico, su espiritu de equipo y su capacidad para trabajar con los demás.\n"
   ]
  },
  {
   "cell_type": "markdown",
   "id": "af809d72-7ce5-4e8e-81c1-5dd16bb5ab8e",
   "metadata": {},
   "source": [
    "<img src=\"Desktop/Bici/_DSC0415_edited.jpg\">"
   ]
  },
  {
   "cell_type": "markdown",
   "id": "94111682-5879-4f2b-81a0-6b5925cc24df",
   "metadata": {},
   "source": [
    "# K-means Clustering"
   ]
  },
  {
   "cell_type": "markdown",
   "id": "219dd565-e03f-468d-988d-8538393a187c",
   "metadata": {},
   "source": [
    "El agrupamiento de K-Means tiene la intención de dividir n objetos en k grupos en los que cada objeto pertenece al grupo con la media más cercana. Este método produce exactamente k grupos diferentes de la mayor distinción posible. El mejor número de grupos k que conducen a la mayor separación (distancia) no se conoce a priori y debe calcularse a partir de los datos. El objetivo del agrupamiento de K-Means es minimizar la varianza total dentro del conglomerado, o la función de error cuadrático: "
   ]
  },
  {
   "cell_type": "markdown",
   "id": "6710d9fe-f1fd-4c83-adb3-841433107a8a",
   "metadata": {},
   "source": [
    "<img src=\"https://www.saedsayad.com/images/Clustering_kmeans_c.png\">"
   ]
  },
  {
   "cell_type": "markdown",
   "id": "87e1d93f-de8f-4c09-9a92-91d859c4123f",
   "metadata": {},
   "source": [
    "### Ejemplo"
   ]
  },
  {
   "cell_type": "markdown",
   "id": "d31950b6-9725-42d7-b586-e79c948699dd",
   "metadata": {},
   "source": [
    "Supongamos que queremos agrupar a los visitantes de un sitio web usando solo su edad (espacio unidimensional) de la siguiente manera: $n=19$ \n",
    "15,15,16,19,19,20,20,21,22,28,35,40,41,42,43,44,60,61,65"
   ]
  },
  {
   "cell_type": "markdown",
   "id": "454c7005-d937-4ceb-b493-e3b9e5716d42",
   "metadata": {},
   "source": [
    "Para continuar con la visualización del ejemplo y ver de dónde fué estraido este contenido hacer click [aquí](https://www.saedsayad.com/clustering_kmeans.htm)\n"
   ]
  },
  {
   "cell_type": "markdown",
   "id": "04f1eaa9-d38b-40f9-b090-f18c4bca5a42",
   "metadata": {},
   "source": [
    "Para aprender más sobre k-means clustering entra [acá](https://en.wikipedia.org/wiki/K-means_clustering)\n"
   ]
  },
  {
   "cell_type": "code",
   "execution_count": null,
   "id": "dd517910-17ae-49b2-a133-a259ccc98d97",
   "metadata": {},
   "outputs": [],
   "source": []
  }
 ],
 "metadata": {
  "kernelspec": {
   "display_name": "Python 3",
   "language": "python",
   "name": "python3"
  },
  "language_info": {
   "codemirror_mode": {
    "name": "ipython",
    "version": 3
   },
   "file_extension": ".py",
   "mimetype": "text/x-python",
   "name": "python",
   "nbconvert_exporter": "python",
   "pygments_lexer": "ipython3",
   "version": "3.8.8"
  }
 },
 "nbformat": 4,
 "nbformat_minor": 5
}
